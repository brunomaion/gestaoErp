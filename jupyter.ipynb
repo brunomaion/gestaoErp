{
 "cells": [
  {
   "cell_type": "code",
   "execution_count": 24,
   "metadata": {},
   "outputs": [
    {
     "name": "stdout",
     "output_type": "stream",
     "text": [
      "   idUser nomeUser cpf email\n",
      "0       a        b   c     d\n",
      "1       a        b   c     d\n",
      "2       a        b   c     d\n",
      "3       a        b   c     d\n",
      "4       a        b   c     d\n",
      "5       a        b   c     d\n",
      "6       a        b   c     d\n",
      "7       a        b   c     d\n",
      "8       a        b   c     d\n",
      "9       a        b   c     d\n",
      "10      a        b   c     d\n",
      "11      a        b   c     d\n",
      "0       a        b   c     d\n"
     ]
    }
   ],
   "source": [
    "import pandas as pd\n",
    "\n",
    "df = pd.read_csv('tabelas/usuario.csv', sep=';')\n",
    "\n",
    "df2 = pd.DataFrame({\n",
    "    'idUser': ['a'],\n",
    "    'nomeUser': ['b'],\n",
    "    'cpf': ['c'],\n",
    "    'email': ['d']\n",
    "})\n",
    "\n",
    "df = pd.concat([df, df2])\n",
    "df.to_csv('tabelas/usuario.csv', sep=';', index=False)\n",
    "\n",
    "print(df)\n",
    "\n"
   ]
  }
 ],
 "metadata": {
  "kernelspec": {
   "display_name": "Python 3",
   "language": "python",
   "name": "python3"
  },
  "language_info": {
   "codemirror_mode": {
    "name": "ipython",
    "version": 3
   },
   "file_extension": ".py",
   "mimetype": "text/x-python",
   "name": "python",
   "nbconvert_exporter": "python",
   "pygments_lexer": "ipython3",
   "version": "3.10.6"
  },
  "orig_nbformat": 4
 },
 "nbformat": 4,
 "nbformat_minor": 2
}
